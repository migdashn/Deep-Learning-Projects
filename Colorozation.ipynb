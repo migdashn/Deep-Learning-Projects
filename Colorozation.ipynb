{
  "nbformat": 4,
  "nbformat_minor": 0,
  "metadata": {
    "colab": {
      "provenance": [],
      "authorship_tag": "ABX9TyM+kXK2Wa3y7ILZBA7wIsf0",
      "include_colab_link": true
    },
    "kernelspec": {
      "name": "python3",
      "display_name": "Python 3"
    },
    "language_info": {
      "name": "python"
    }
  },
  "cells": [
    {
      "cell_type": "markdown",
      "metadata": {
        "id": "view-in-github",
        "colab_type": "text"
      },
      "source": [
        "<a href=\"https://colab.research.google.com/github/migdashn/Deep-Learning-Projects/blob/main/Colorozation.ipynb\" target=\"_parent\"><img src=\"https://colab.research.google.com/assets/colab-badge.svg\" alt=\"Open In Colab\"/></a>"
      ]
    },
    {
      "cell_type": "markdown",
      "source": [
        "Imports"
      ],
      "metadata": {
        "id": "54CXuFElr7Qx"
      }
    },
    {
      "cell_type": "code",
      "source": [
        "import os\n",
        "import pandas\n",
        "import numpy as np\n",
        "import matplotlib.pyplot as plt\n",
        "\n",
        "import torch\n",
        "import torch.nn as nn\n",
        "import torch.optim as optim\n",
        "from sklearn.utils import shuffle\n",
        "from glob import glob"
      ],
      "metadata": {
        "id": "21YRW0NTqwRV"
      },
      "execution_count": null,
      "outputs": []
    },
    {
      "cell_type": "markdown",
      "source": [
        "data processing"
      ],
      "metadata": {
        "id": "M2VWaYQKr_MN"
      }
    },
    {
      "cell_type": "code",
      "execution_count": null,
      "metadata": {
        "id": "cx-7swx0qvg2"
      },
      "outputs": [],
      "source": [
        "#TODO"
      ]
    },
    {
      "cell_type": "markdown",
      "source": [
        "Generator"
      ],
      "metadata": {
        "id": "nMxCOAx6sDZs"
      }
    },
    {
      "cell_type": "code",
      "source": [
        "def Generator():\n",
        "    inputs = Input(shape=(256,256,3), name=\"InputLayer\")\n",
        "    down_stack = [downsample(64, apply_batchnorm=False),\n",
        "        downsample(128),\n",
        "        downsample(256),\n",
        "        downsample(512),\n",
        "        downsample(512),\n",
        "        downsample(512),\n",
        "        downsample(512),]\n",
        "    encoding = downsample(512)\n",
        "\n",
        "    up_stack = [upsample(512, apply_dropout=True),\n",
        "        upsample(512, apply_dropout=True),\n",
        "        upsample(512, apply_dropout=True),\n",
        "        upsample(512),\n",
        "        upsample(256),\n",
        "        upsample(128),\n",
        "        upsample(64),]\n",
        "\n",
        "    x = inputs \n",
        "    skips = []\n",
        "    for down in down_stack:\n",
        "        x = down(x)\n",
        "        skips.append(x)\n",
        "    \n",
        "    x = encoding(x)\n",
        "\n",
        "    skips = reversed(skips)\n",
        "    for up, skip in zip(up_stack, skips):\n",
        "        x = up(x)\n",
        "        x = concatenate([x, skip])\n",
        "    \n",
        "    init = RandomNormal(stddev=0.02)\n",
        "    out = Conv2DTranspose(3, kernel_size=4, strides=2, kernel_initializer=init, activation='tanh', padding='same')\n",
        "\n",
        "    out = out(x)\n",
        "\n",
        "    gen = Model(inputs=inputs, outputs=out, name=\"Generator\")\n",
        "    return gen\n"
      ],
      "metadata": {
        "id": "hiBkYc2psCvW"
      },
      "execution_count": null,
      "outputs": []
    },
    {
      "cell_type": "markdown",
      "source": [
        "Encoder Block"
      ],
      "metadata": {
        "id": "8PPxxmRzsp-E"
      }
    },
    {
      "cell_type": "code",
      "source": [
        "def downsample(filters, apply_batchnorm=True):\n",
        "\n",
        "    model = Sequential(\n",
        "        Conv2D(filters, kernel_size=4, strides=2, padding='same', kernel_initializer='he_normal', use_bias=False),\n",
        "    )\n",
        "\n",
        "    if apply_batchnorm:\n",
        "        model.add(BatchNormalization())\n",
        "    model.add(LeakyReLU(alpha=0.2))\n",
        "\n",
        "    return model"
      ],
      "metadata": {
        "id": "ri-4x8sfsooY"
      },
      "execution_count": null,
      "outputs": []
    },
    {
      "cell_type": "markdown",
      "source": [
        "Decoder BLock"
      ],
      "metadata": {
        "id": "rVNj9kTxstSu"
      }
    },
    {
      "cell_type": "code",
      "source": [
        "def upsample(filters, apply_dropout=False):\n",
        "\n",
        "    model = Sequential()\n",
        "    model.add(Conv2DTranspose(\n",
        "        filters,\n",
        "        kernel_size=4,\n",
        "        strides=2,\n",
        "        padding='same',\n",
        "        kernel_initializer='he_normal',\n",
        "        use_bias=False))\n",
        "    model.add(BatchNormalization())\n",
        "    \n",
        "    if apply_dropout:\n",
        "        model.add(Dropout(0.5))\n",
        "    \n",
        "    model.add(ReLU())\n",
        "\n",
        "    return model"
      ],
      "metadata": {
        "id": "Zbo3WC0lsvk-"
      },
      "execution_count": null,
      "outputs": []
    },
    {
      "cell_type": "markdown",
      "source": [
        "Discriminator Model"
      ],
      "metadata": {
        "id": "Ox0KzG2Vs10A"
      }
    },
    {
      "cell_type": "code",
      "source": [
        "def Discriminator():\n",
        "    init = RandomNormal(stddev=0.02)\n",
        "\n",
        "    image = Input(shape=(256,256,3), name=\"ImageInput\")\n",
        "    target = Input(shape=(256,256,3), name=\"TargetInput\")\n",
        "    x = concatenate([image, target])\n",
        "\n",
        "    x = downsample(64, apply_batchnorm=False)(x)\n",
        "    x = downsample(128)(x)\n",
        "    x = downsample(512)(x)\n",
        "\n",
        "    x = ZeroPadding2D()(x)\n",
        "    x = Conv2D(512, kernel_size=4, strides=1, kernel_initializer=init, use_bias=False)(x)\n",
        "    x = BatchNormalization()(x)\n",
        "    x = LeakyReLU()(x)\n",
        "    x = ZeroPadding2D()(x)\n",
        "\n",
        "    x = Conv2D(1, kernel_size=4, kernel_initializer=init)(x)\n",
        "\n",
        "    model = Model(\n",
        "        inputs=[image, target],\n",
        "        outputs=x,\n",
        "        name=\"Discriminator\"\n",
        "    )\n",
        "\n",
        "    return model"
      ],
      "metadata": {
        "id": "w2BuQW0fs5oh"
      },
      "execution_count": null,
      "outputs": []
    }
  ]
}